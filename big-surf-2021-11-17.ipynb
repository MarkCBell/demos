{
 "cells": [
  {
   "cell_type": "markdown",
   "metadata": {
    "slideshow": {
     "slide_type": "slide"
    }
   },
   "source": [
    "# Bigger\n",
    " \n",
    "<div style=\"display:flex;\">\n",
    "  <div style=\"float:left; width:49%; padding:10px;\">\n",
    "    <p> A Python package for computing big mapping classes and their actions on non-compact laminations via ideal triangulation coordinates. </p>\n",
    "    <p>\n",
    "        Get bigger by running:\n",
    "\n",
    "    $ pip install bigger\n",
    "    \n",
    "https://biggermcg.readthedocs.io\n",
    "    </p>\n",
    "  </div>\n",
    "  <div style=\"float:left; width:49%; padding:10px;\">\n",
    "    <center><img src=\"figures/icon.svg\" style=\"height:300px;\"/></center>\n",
    "\n",
    "\n",
    "  </div>\n",
    "</div>"
   ]
  },
  {
   "cell_type": "code",
   "execution_count": null,
   "metadata": {
    "slideshow": {
     "slide_type": "subslide"
    }
   },
   "outputs": [],
   "source": [
    "import bigger"
   ]
  },
  {
   "cell_type": "code",
   "execution_count": null,
   "metadata": {
    "slideshow": {
     "slide_type": "fragment"
    }
   },
   "outputs": [],
   "source": [
    "S = bigger.load.biflute()"
   ]
  },
  {
   "cell_type": "markdown",
   "metadata": {
    "slideshow": {
     "slide_type": "subslide"
    }
   },
   "source": [
    "<center><img src=\"figures/biflute.svg\" alt=\"biflute\" style=\"width: 800px;\"/></center>"
   ]
  },
  {
   "cell_type": "code",
   "execution_count": null,
   "metadata": {
    "scrolled": true,
    "slideshow": {
     "slide_type": "fragment"
    }
   },
   "outputs": [],
   "source": [
    "draw = bigger.draw(edges=range(1, 30), layout=S, w=1500, h=150, textsize=20)  # For convenience\n",
    "draw(S, label='edge')"
   ]
  },
  {
   "cell_type": "markdown",
   "metadata": {
    "slideshow": {
     "slide_type": "slide"
    }
   },
   "source": [
    "# Laminations"
   ]
  },
  {
   "cell_type": "code",
   "execution_count": null,
   "metadata": {
    "slideshow": {
     "slide_type": "subslide"
    }
   },
   "outputs": [],
   "source": [
    "a1 = S.triangulation({4:1, 5:1})\n",
    "a1"
   ]
  },
  {
   "cell_type": "code",
   "execution_count": null,
   "metadata": {
    "slideshow": {
     "slide_type": "fragment"
    }
   },
   "outputs": [],
   "source": [
    "draw(a1, label='weight')"
   ]
  },
  {
   "cell_type": "code",
   "execution_count": null,
   "metadata": {
    "scrolled": true,
    "slideshow": {
     "slide_type": "fragment"
    }
   },
   "outputs": [],
   "source": [
    "draw(S.triangulation({1:1, 2:1, 3:2, 4:2, 6:2, 7:1, 8:1, 10:-2, 16:2, 18:2, 19:4, 25:1, 26:1}))"
   ]
  },
  {
   "cell_type": "code",
   "execution_count": null,
   "metadata": {
    "slideshow": {
     "slide_type": "subslide"
    }
   },
   "outputs": [],
   "source": [
    "p = S.triangulation(lambda n: 2)\n",
    "p"
   ]
  },
  {
   "cell_type": "code",
   "execution_count": null,
   "metadata": {
    "slideshow": {
     "slide_type": "-"
    }
   },
   "outputs": [],
   "source": [
    "draw(p)"
   ]
  },
  {
   "cell_type": "code",
   "execution_count": null,
   "metadata": {
    "slideshow": {
     "slide_type": "fragment"
    }
   },
   "outputs": [],
   "source": [
    "draw(S.triangulation(lambda n: 2*abs(n)))"
   ]
  },
  {
   "cell_type": "markdown",
   "metadata": {
    "slideshow": {
     "slide_type": "slide"
    }
   },
   "source": [
    "# Mapping Classes\n",
    "\n",
    "Isotopy classes of homeomorphisms a surface"
   ]
  },
  {
   "cell_type": "code",
   "execution_count": null,
   "metadata": {
    "slideshow": {
     "slide_type": "subslide"
    }
   },
   "outputs": [],
   "source": [
    "draw(a1)"
   ]
  },
  {
   "cell_type": "code",
   "execution_count": null,
   "metadata": {
    "slideshow": {
     "slide_type": "-"
    }
   },
   "outputs": [],
   "source": [
    "T_a1 = a1.twist()  # The Dehn twist about a1"
   ]
  },
  {
   "cell_type": "code",
   "execution_count": null,
   "metadata": {
    "slideshow": {
     "slide_type": "subslide"
    }
   },
   "outputs": [],
   "source": [
    "horizontal = S.triangulation(lambda n: 1 if n % 3 != 2 else 0)\n",
    "print(horizontal)\n",
    "draw(horizontal)"
   ]
  },
  {
   "cell_type": "code",
   "execution_count": null,
   "metadata": {
    "slideshow": {
     "slide_type": "-"
    }
   },
   "outputs": [],
   "source": [
    "print(T_a1(horizontal))\n",
    "draw(T_a1(horizontal))"
   ]
  },
  {
   "cell_type": "code",
   "execution_count": null,
   "metadata": {
    "slideshow": {
     "slide_type": "subslide"
    }
   },
   "outputs": [],
   "source": [
    "print(S('a[1]')(horizontal))\n",
    "draw(S('a[1]')(horizontal))"
   ]
  },
  {
   "cell_type": "code",
   "execution_count": null,
   "metadata": {
    "slideshow": {
     "slide_type": "fragment"
    }
   },
   "outputs": [],
   "source": [
    "draw((S('a[1].a[5]')**5)(horizontal))"
   ]
  },
  {
   "cell_type": "code",
   "execution_count": null,
   "metadata": {
    "slideshow": {
     "slide_type": "subslide"
    }
   },
   "outputs": [],
   "source": [
    "draw(S('a[1:5]')(horizontal))"
   ]
  },
  {
   "cell_type": "code",
   "execution_count": null,
   "metadata": {
    "scrolled": true,
    "slideshow": {
     "slide_type": "fragment"
    }
   },
   "outputs": [],
   "source": [
    "draw(S('a[2:]')(horizontal))"
   ]
  },
  {
   "cell_type": "code",
   "execution_count": null,
   "metadata": {
    "slideshow": {
     "slide_type": "fragment"
    }
   },
   "outputs": [],
   "source": [
    "draw(S('a[::4]')(horizontal))"
   ]
  },
  {
   "cell_type": "code",
   "execution_count": null,
   "metadata": {
    "slideshow": {
     "slide_type": "subslide"
    }
   },
   "outputs": [],
   "source": [
    "draw(S('a[::]')(horizontal))"
   ]
  },
  {
   "cell_type": "code",
   "execution_count": null,
   "metadata": {
    "slideshow": {
     "slide_type": "subslide"
    }
   },
   "outputs": [],
   "source": [
    "draw(S('a{n % 2 == 0 and n % 3 != 1}')(horizontal))"
   ]
  },
  {
   "cell_type": "code",
   "execution_count": null,
   "metadata": {
    "slideshow": {
     "slide_type": "fragment"
    }
   },
   "outputs": [],
   "source": [
    "draw(S('a{n > 1 and all(n % i != 0 for i in range(2,n))}')(horizontal), edges=range(1, 60))"
   ]
  },
  {
   "cell_type": "markdown",
   "metadata": {
    "slideshow": {
     "slide_type": "fragment"
    }
   },
   "source": [
    "`draw(S('a{the nth digit of pi is 0}')(horizontal))`"
   ]
  },
  {
   "cell_type": "code",
   "execution_count": null,
   "metadata": {
    "slideshow": {
     "slide_type": "subslide"
    }
   },
   "outputs": [],
   "source": [
    "multicurve = S('b[2]')(S.triangulation(lambda edge: 1 if edge % 3 != 0 else 0))\n",
    "draw(multicurve)"
   ]
  },
  {
   "cell_type": "code",
   "execution_count": null,
   "metadata": {
    "slideshow": {
     "slide_type": "fragment"
    }
   },
   "outputs": [],
   "source": [
    "h = multicurve.twist()\n",
    "draw((h)(horizontal))"
   ]
  },
  {
   "cell_type": "markdown",
   "metadata": {
    "slideshow": {
     "slide_type": "slide"
    }
   },
   "source": [
    "# Other surfaces\n",
    "\n",
    "<table>\n",
    "    <tr>\n",
    "        <td><center><img src=\"images/cantor.svg\" style=\"width:50\"/><code>bigger.load.cantor()</code></center></td>\n",
    "        <td><center><img src=\"images/flute.svg\" style=\"width:50\"/><code>bigger.load.flute()</code></center></td>\n",
    "    </tr>\n",
    "    <tr>\n",
    "        <td><center><img src=\"images/lochness.svg\" style=\"width:50\"/><code>bigger.load.lochness()</code></center></td>\n",
    "        <td><center><img src=\"images/spotted_ladder.svg\" style=\"width:50\"/><code>bigger.load.spotted_ladder()</code></center></td>\n",
    "    </tr>\n",
    "</table>"
   ]
  },
  {
   "cell_type": "markdown",
   "metadata": {
    "slideshow": {
     "slide_type": "subslide"
    }
   },
   "source": [
    "## Tautologies\n",
    "\n",
    "- Bigger can only compute computable laminations\n",
    "  - <i>This includes all finitely supported laminations</i>\n",
    "- Bigger can only compute computable mapping classes\n",
    "  - <i>This includes all finitely supported mapping classes</i>\n",
    "- Bigger can only compute on computable triangulations\n",
    "  - <i>Theorem: Most surfaces don't have any computable triangulations</i>"
   ]
  },
  {
   "cell_type": "markdown",
   "metadata": {
    "slideshow": {
     "slide_type": "slide"
    }
   },
   "source": [
    "## Challenges:\n",
    "\n",
    "- Write down a (computable) triangulation of the ladder surface.\n",
    "- Find an example of a surface which does not have any computable triangulation.\n",
    "- The computable mapping classes form a subgroup of the mapping class group. Is it ever a normal subgroup?"
   ]
  },
  {
   "cell_type": "markdown",
   "metadata": {
    "slideshow": {
     "slide_type": "fragment"
    }
   },
   "source": [
    "# Thank you\n",
    "\n",
    "Comments? Open a ticket: https://github.com/MarkCBell/bigger/issues\n",
    "\n",
    "Suggestions? Open a pull request: https://github.com/MarkCBell/bigger/pulls"
   ]
  },
  {
   "cell_type": "markdown",
   "metadata": {
    "slideshow": {
     "slide_type": "slide"
    }
   },
   "source": [
    "\n",
    "<center><img src=\"figures/surface/4.svg\" style=\"width: 1000px;\"/></center>"
   ]
  },
  {
   "cell_type": "code",
   "execution_count": null,
   "metadata": {
    "slideshow": {
     "slide_type": "slide"
    }
   },
   "outputs": [],
   "source": []
  }
 ],
 "metadata": {
  "celltoolbar": "Slideshow",
  "kernelspec": {
   "display_name": "Python 3",
   "language": "python",
   "name": "python3"
  },
  "language_info": {
   "codemirror_mode": {
    "name": "ipython",
    "version": 3
   },
   "file_extension": ".py",
   "mimetype": "text/x-python",
   "name": "python",
   "nbconvert_exporter": "python",
   "pygments_lexer": "ipython3",
   "version": "3.8.10"
  },
  "rise": {
   "autolaunch": true,
   "enable_chalkboard": true,
   "scroll": true,
   "transition": "none"
  }
 },
 "nbformat": 4,
 "nbformat_minor": 4
}
